{
 "cells": [
  {
   "cell_type": "markdown",
   "metadata": {},
   "source": [
    "# Understanding the data"
   ]
  },
  {
   "cell_type": "markdown",
   "metadata": {},
   "source": [
    "## Explore Chicago"
   ]
  },
  {
   "cell_type": "code",
   "execution_count": null,
   "metadata": {},
   "outputs": [],
   "source": [
    "# Introduction Though there are a number of ways you can go about tackling this project, we recommend using NumPy and\n",
    "# pandas. Using these libraries is the industry standard for working with data in Python. In the quizzes in this and\n",
    "# the following sections, you will get some practice using NumPy and pandas to complete different parts of the\n",
    "# project. Then for the project, you will need to piece your code together with some additional code to complete a\n",
    "# final project! These sections will likely be helpful if you use NumPy and pandas to complete the project.\n",
    "\n",
    "# Understanding the Data Let's use pandas to better understand the bike share data! Use this code editor to explore\n",
    "# chicago.csv and answer the questions below. The file included here is a mini version of one of the actual data\n",
    "# files you will work with for the project. It only includes 400 rows, but the structure and columns are the same.\n",
    "\n",
    "# 1. What columns are in this dataset?\n",
    "# Answer: Start Time,End Time,Trip Duration,Start Station,End Station,User Type,Gender,Birth Year\n",
    "\n",
    "# 2. Are there any missing values?\n",
    "# Answer: Yes\n",
    "\n",
    "# 3. What are the different types of values in each column?\n",
    "# Answer: object, int64, float\n",
    "\n",
    "# 4. Some useful pandas methods:\n",
    "# df.head()\n",
    "# df.columns\n",
    "# df.describe()\n",
    "# df.info()\n",
    "# df['column_name'].value_counts()\n",
    "# df['column_name'].unique()\n",
    "\n",
    "\n",
    "import pandas as pd\n",
    "\n",
    "df = pd.read_csv(\"chicago.csv\")\n",
    "print(df.head())  # start by viewing the first few rows of the dataset!\n",
    "print(df.dtypes)\n"
   ]
  },
  {
   "cell_type": "markdown",
   "metadata": {},
   "source": [
    "## Filter Data"
   ]
  },
  {
   "cell_type": "code",
   "execution_count": null,
   "metadata": {},
   "outputs": [],
   "source": [
    "# Load and Filter the Dataset This is a bit of a bigger task, which involves choosing a dataset to load and filtering\n",
    "# it based on a specified month and day. In the quiz below, you'll implement the load_data() function, which you can\n",
    "# use directly in your project. There are four steps: Load the dataset for the specified city. Index the global\n",
    "# CITY_DATA dictionary object to get the corresponding filename for the given city name. Create month and day_of_week\n",
    "# columns. Convert the \"Start Time\" column to datetime and extract the month number and weekday name into separate\n",
    "# columns using the datetime module. Filter by month. Since the month parameter is given as the name of the month,\n",
    "# you'll need to first convert this to the corresponding month number. Then, select rows of the dataframe that have\n",
    "# the specified month and reassign this as the new dataframe. Filter by day of week. Select rows of the dataframe\n",
    "# that have the specified day of week and reassign this as the new dataframe. (Note: Capitalize the day parameter\n",
    "# with the title() method to match the title case used in the day_of_week column!)\n",
    "\n",
    "\n",
    "import pandas as pd\n",
    "\n",
    "CITY_DATA = {'chicago': 'chicago.csv',\n",
    "             'new york city': 'new_york_city.csv',\n",
    "             'washington': 'washington.csv'}\n",
    "\n",
    "\n",
    "def load_data(city, month, day):\n",
    "    \"\"\"\n",
    "    Loads data for the specified city and filters by month and day if applicable.\n",
    "\n",
    "    Args:\n",
    "        (str) city - name of the city to analyze\n",
    "        (str) month - name of the month to filter by, or \"all\" to apply no month filter\n",
    "        (str) day - name of the day of week to filter by, or \"all\" to apply no day filter\n",
    "    Returns:\n",
    "        df - pandas DataFrame containing city data filtered by month and day\n",
    "    \"\"\"\n",
    "\n",
    "    # load data file into a dataframe\n",
    "    df = pd.read_csv(city + \".csv\")\n",
    "\n",
    "    # convert the Start Time column to datetime\n",
    "    df['Start Time'] = pd.to_datetime(df['Start Time'])\n",
    "\n",
    "    # extract month and day of week from Start Time to create new columns\n",
    "    df['month'] = pd.DatetimeIndex(df['Start Time']).month\n",
    "\n",
    "    df['day_of_week'] = df['Start Time'].dt.day_name()\n",
    "\n",
    "    # filter by month if applicable\n",
    "    if month != 'all':\n",
    "        # use the index of the months list to get the corresponding int\n",
    "        months = ['january', 'february', 'march', 'april', 'may', 'june']\n",
    "        month = months.index(month) + 1\n",
    "\n",
    "        # filter by month to create the new dataframe\n",
    "        df = df.loc[df['month'] == month]\n",
    "\n",
    "        # filter by day of week if applicable\n",
    "    if day != 'all':\n",
    "        # filter by day of week to create the new dataframe\n",
    "        df = df.loc[df['day_of_week'] == day]\n",
    "\n",
    "    return df\n",
    "\n",
    "\n",
    "df = load_data('chicago', 'march', 'friday')\n"
   ]
  },
  {
   "cell_type": "markdown",
   "metadata": {},
   "source": [
    "## Popular times"
   ]
  },
  {
   "cell_type": "code",
   "execution_count": null,
   "metadata": {},
   "outputs": [],
   "source": [
    "# Compute the Most Popular Start Hour\n",
    "# Use pandas to load chicago.csv into a dataframe, and find the most frequent hour when people start traveling. There isn't an hour column in this dataset, but you can create one by extracting the hour from the \"Start Time\" column. To do this, you can convert \"Start Time\" to the datetime datatype using the pandas to_datetime()\n",
    "\n",
    "# https://pandas.pydata.org/pandas-docs/stable/generated/pandas.to_datetime.html\n",
    "\n",
    "# method and extracting properties such as the hour with these properties. - https://pandas.pydata.org/pandas-docs/stable/api.html#datetimelike-properties\n",
    "\n",
    "# Hint: Another way to describe the most common value in a column is the mode.\n",
    "\n",
    "import pandas as pd\n",
    "\n",
    "filename = 'chicago.csv'\n",
    "\n",
    "# load data file into a dataframe\n",
    "df = pd.read_csv(filename)\n",
    "\n",
    "# convert the Start Time column to datetime\n",
    "df['Start Time'] = pd.to_datetime(df['Start Time'])\n",
    "\n",
    "# extract hour from the Start Time column to create an hour column\n",
    "df['hour'] = pd.DatetimeIndex(df['Start Time']).hour\n",
    "# find the most common hour (from 0 to 23)\n",
    "\n",
    "popular_hour = df['hour'].value_counts().idxmax()\n",
    "\n",
    "print('Most Frequent Start Hour:', popular_hour)\n"
   ]
  },
  {
   "cell_type": "markdown",
   "metadata": {},
   "source": [
    "## User Types"
   ]
  },
  {
   "cell_type": "code",
   "execution_count": null,
   "metadata": {},
   "outputs": [],
   "source": [
    "import pandas as pd\n",
    "\n",
    "filename = 'chicago.csv'\n",
    "\n",
    "# load data file into a dataframe\n",
    "df = pd.read_csv(filename)\n",
    "\n",
    "# print value counts for each user type\n",
    "user_types = df['User Type'].value_counts()\n",
    "\n",
    "print(user_types)\n",
    "a\\"
   ]
  }
 ],
 "metadata": {
  "kernelspec": {
   "display_name": "Python 3",
   "language": "python",
   "name": "python3"
  },
  "language_info": {
   "codemirror_mode": {
    "name": "ipython",
    "version": 3
   },
   "file_extension": ".py",
   "mimetype": "text/x-python",
   "name": "python",
   "nbconvert_exporter": "python",
   "pygments_lexer": "ipython3",
   "version": "3.8.3"
  }
 },
 "nbformat": 4,
 "nbformat_minor": 4
}
