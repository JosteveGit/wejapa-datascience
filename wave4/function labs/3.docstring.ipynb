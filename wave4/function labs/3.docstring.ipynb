def readable_timedelta(days):
    # insert your docstring here
    """
    Calculate the number of weeks and number of days from number of days
    :param days: The number of days to calculate from
    :return: The number of weeks and the number of days
    """
    weeks = days // 7
    remainder = days % 7
    return "{} week(s) and {} day(s)".format(weeks, remainder)
