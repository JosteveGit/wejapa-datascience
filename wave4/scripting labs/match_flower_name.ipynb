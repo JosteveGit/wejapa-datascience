# For the following practice question you will need to write code in Python in the workspace below. This will allow
# you to practice the concepts discussed in the Scripting lesson, such as reading and writing files. You will see
# some older concepts too, but again, we have them there to review and reinforce your understanding of those concepts.

# Question: Create a function that opens the flowers.txt, reads every line in it, and saves it as a dictionary. The
# main (separate) function should take user input (user's first name and last name) and parse the user input to
# identify the first letter of the first name. It should then use it to print the flower name with the same first
# letter (from dictionary created in the first function).

# Sample Output:

# >>> Enter your First [space] Last name only: Bill Newman
# >>> Unique flower name with the first letter: Bellflower

def my_func():
    with open("flowers.txt", "r") as f:
        char_list: dict = {x.replace(":", "")[0]: x.replace("\n", "").split(" ")[1] for x in f}
        return char_list


def main():
    name = input("Enter your First [space] Last name only: "),
    char = name[0].upper()
    print("Unique flower name with the first letter: {}".format(my_func()[char]))


if __name__ == '__main__':
    main()

# Write your code here

# HINT: create a dictionary from flowers.txt

# HINT: create a function
